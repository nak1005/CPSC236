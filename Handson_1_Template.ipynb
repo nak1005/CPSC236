{
 "cells": [
  {
   "cell_type": "markdown",
   "metadata": {},
   "source": [
    "# Chapter 2 - How to write your first program"
   ]
  },
  {
   "cell_type": "markdown",
   "metadata": {},
   "source": [
    "## 2.1 Student Registration\n",
    "Create a program that allows a student to complete a registration form and displays a completion message that includes the user’s full name and a temporary password.\n",
    "\n",
    "### Console:\n",
    "```powershell\n",
    "Registration Form\n",
    "\n",
    "First Name: Eric\n",
    "Last Name: Idle\n",
    "Birth Year: 1934\n",
    "\n",
    "Welcome Eric Idle!\n",
    "Your registration is complete!\n",
    "Your temporary password is: Eric*1934\n",
    "```\n",
    "\n",
    "### Specifications:\n",
    "- The user’s full name consists of the user’s first name, a space, and the user’s last name.\n",
    "- The temporary password consists of the user’s first name, an asterisk (*), and the user’s birth year.\n",
    "- Assume the user will enter valid data.\n"
   ]
  },
  {
   "cell_type": "code",
   "execution_count": 4,
   "metadata": {},
   "outputs": [
    {
     "name": "stdout",
     "output_type": "stream",
     "text": [
      "Registration Form\n",
      "\n",
      "First Name: nikki\n",
      "Last Name: kudamik\n",
      "Birth Year: 200\n",
      "\n",
      "Welcome nikki kudamik\n",
      "Your registration is complete\n",
      "Your temporary password is: nikki200\n"
     ]
    }
   ],
   "source": [
    "print(\"Registration Form\\n\")\n",
    "\n",
    "firstName = input (\"First Name: \") #Users first name; type:string\n",
    "lastName = input (\"Last Name: \") #Users last name; type:string\n",
    "birthYear = int(input (\"Birth Year: \")) #Users birth year; convert to type int\n",
    "\n",
    "print(\"\\nWelcome \"+firstName+\" \"+lastName)\n",
    "print(\"Your registration is complete\")\n",
    "print(\"Your temporary password is: \"+firstName+str(birthYear)) #convert birthYear to type string"
   ]
  },
  {
   "cell_type": "markdown",
   "metadata": {},
   "source": [
    "## 2.2 - Pay Check Calculator\n",
    "Create a program that calculates a user’s weekly gross and take-home pay.\n",
    "\n",
    "### Console\n",
    "```powershell\n",
    "Pay Check Calculator\n",
    "\n",
    "Hours Worked: 35\n",
    "Hourly Pay Rate: 14.50\n",
    "\n",
    "Gross Pay: 507.5\n",
    "Tax Rate: 18%\n",
    "Tax Amount: 91.35\n",
    "Take Home Pay: 416.15\n",
    "```\n",
    "\n",
    "### Specifications:\n",
    "- The formula for calculating gross pay is:\n",
    "`gross pay = hours worked * hourly rate`\n",
    "- The formula for calculating tax amount is:\n",
    "`tax amount = gross pay * (tax rate / 100)`\n",
    "- The formula for calculating take home pay is:\n",
    "`take home pay = gross pay – tax amount`\n",
    "- The tax rate should be 18%, but the program should store the tax rate in a variable so that you can easily change the tax rate later, just by changing the value that’s stored in the variable.\n",
    "- The program should accept decimal entries like 35.5 and 14.25.\n",
    "- Assume the user will enter valid data.\n",
    "- The program should round the results to a maximum of two decimal places.\n"
   ]
  },
  {
   "cell_type": "code",
   "execution_count": 20,
   "metadata": {},
   "outputs": [
    {
     "name": "stdout",
     "output_type": "stream",
     "text": [
      "Pay Check Calculator\n",
      "\n",
      "Hours Worked: 35\n",
      "Hourly Pay Rate: 14.50\n",
      "\n",
      "Gross Pay: 507.5\n",
      "Tax Rate: 18%\n",
      "Tax Amount: 91.35\n",
      "Take Home Pay: 416.15\n"
     ]
    }
   ],
   "source": [
    "print(\"Pay Check Calculator\\n\")\n",
    "\n",
    "hoursWorked = float(input (\"Hours Worked: \"))\n",
    "hourlyRate = float(input (\"Hourly Pay Rate: \"))\n",
    "\n",
    "grossPay = hoursWorked*hourlyRate\n",
    "taxRate=18\n",
    "taxAmt = grossPay*(taxRate/100)\n",
    "takeHomePay = grossPay-taxAmt\n",
    "\n",
    "print(\"\\nGross Pay: \"+str(grossPay))\n",
    "print(\"Tax Rate: \"+str(taxRate)+\"%\") #use round function; x=round(x,2)???\n",
    "print(\"Tax Amount: \"+str(taxAmt))\n",
    "print(\"Take Home Pay: \"+str(takeHomePay))"
   ]
  },
  {
   "cell_type": "markdown",
   "metadata": {},
   "source": [
    "## 2.3 - Travel Time Calculator\n",
    "Create a program that calculates the estimated hours and minutes for a trip.\n",
    "\n",
    "### Console\n",
    "```powershell\n",
    "Travel Time Calculator\n",
    "\n",
    "Enter Miles: 200\n",
    "Enter Miles per Hour: 65\n",
    "\n",
    "Estimated Travel Time\n",
    "Hours: 3\n",
    "Minutes: 5\n",
    "```\n",
    "\n",
    "### Specifications\n",
    "- The program should only accept integer entries like 200 and 65.\n",
    "- Assume that the user will enter valid data.\n",
    "\n",
    "### Hint\n",
    "- Use integers with the integer division and modulus operators to get hours and minutes."
   ]
  },
  {
   "cell_type": "code",
   "execution_count": 28,
   "metadata": {},
   "outputs": [
    {
     "name": "stdout",
     "output_type": "stream",
     "text": [
      "Travel Time Calculator\n",
      "\n",
      "Enter Miles: 200\n",
      "Enter Miles Per Hour: 65\n",
      "\n",
      "Estimated Travel Time\n",
      "Hours: 3\n",
      "Minutes: 5\n"
     ]
    }
   ],
   "source": [
    "print(\"Travel Time Calculator\\n\")\n",
    "\n",
    "miles = int(input(\"Enter Miles: \"))\n",
    "mph = int(input(\"Enter Miles Per Hour: \"))\n",
    "\n",
    "print(\"\\nEstimated Travel Time\")\n",
    "print(\"Hours: \"+str(miles//mph))\n",
    "print(\"Minutes: \"+str(miles%mph))"
   ]
  },
  {
   "cell_type": "code",
   "execution_count": null,
   "metadata": {},
   "outputs": [],
   "source": []
  }
 ],
 "metadata": {
  "kernelspec": {
   "display_name": "Python 3 (ipykernel)",
   "language": "python",
   "name": "python3"
  },
  "language_info": {
   "codemirror_mode": {
    "name": "ipython",
    "version": 3
   },
   "file_extension": ".py",
   "mimetype": "text/x-python",
   "name": "python",
   "nbconvert_exporter": "python",
   "pygments_lexer": "ipython3",
   "version": "3.11.5"
  }
 },
 "nbformat": 4,
 "nbformat_minor": 2
}
